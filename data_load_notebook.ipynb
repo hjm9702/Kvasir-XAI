{
 "cells": [
  {
   "cell_type": "code",
   "execution_count": 3,
   "metadata": {},
   "outputs": [],
   "source": [
    "import numpy as np\n",
    "import sys, os, pickle\n",
    "import cv2\n",
    "import matplotlib.pyplot as plt\n",
    "from preprocessing import text_vanish as tv\n",
    "from preprocessing import crop_edges as ce"
   ]
  },
  {
   "cell_type": "code",
   "execution_count": 45,
   "metadata": {},
   "outputs": [],
   "source": [
    "#image_dim = int(sys.argv[1])#224, 299, 331, ...\n",
    "\n",
    "image_dim = 384\n",
    "\n",
    "\n",
    "dpath_original = './datav2'\n",
    "dpath_preprocess = dpath_original+'_preprocess'\n",
    "class_list = ['esophagitis', 'dyed-lifted-polyps', 'dyed-resection-margins', 'normal-cecum', 'normal-pylorus', 'normal-z-line', 'polyps', 'ulcerative-colitis']"
   ]
  },
  {
   "cell_type": "code",
   "execution_count": 5,
   "metadata": {},
   "outputs": [],
   "source": [
    "if not(os.path.isdir(dpath_preprocess)):\n",
    "    os.mkdir(dpath_preprocess)"
   ]
  },
  {
   "cell_type": "code",
   "execution_count": 7,
   "metadata": {},
   "outputs": [
    {
     "name": "stdout",
     "output_type": "stream",
     "text": [
      "esophagitis\n",
      "dyed-lifted-polyps\n",
      "dyed-resection-margins\n",
      "normal-cecum\n",
      "normal-pylorus\n",
      "normal-z-line\n",
      "polyps\n",
      "ulcerative-colitis\n"
     ]
    }
   ],
   "source": [
    "for i, c in enumerate(class_list):\n",
    "    \n",
    "    print(c)\n",
    "    \n",
    "    class_dir = os.path.join(dpath_original, c)\n",
    "    file_list = os.listdir(class_dir)\n",
    "    \n",
    "    out_dir = os.path.join(dpath_preprocess, c)\n",
    "    if not(os.path.isdir(out_dir)): os.mkdir(out_dir)\n",
    "        \n",
    "    for f in file_list:\n",
    "\n",
    "        impath = os.path.join(class_dir, f)\n",
    "        processed = tv.Vanisher(impath).do_vanish()\n",
    "        cropped = ce.Crop(processed).do_crop()\n",
    "        final = cv2.resize(cropped, (625, 532))\n",
    "\n",
    "        filename = os.path.basename(impath).strip()[:-4] + '_prsd'\n",
    "        out_path = os.path.join(out_dir, filename + '.png')\n",
    "        cv2.imwrite(out_path, final)\n",
    "            "
   ]
  },
  {
   "cell_type": "code",
   "execution_count": null,
   "metadata": {},
   "outputs": [],
   "source": []
  },
  {
   "cell_type": "code",
   "execution_count": 46,
   "metadata": {},
   "outputs": [
    {
     "name": "stdout",
     "output_type": "stream",
     "text": [
      "100 done\n",
      "200 done\n",
      "300 done\n",
      "400 done\n",
      "500 done\n",
      "600 done\n",
      "700 done\n",
      "800 done\n",
      "900 done\n",
      "1000 done\n",
      "1100 done\n",
      "1200 done\n",
      "1300 done\n",
      "1400 done\n",
      "1500 done\n",
      "1600 done\n",
      "1700 done\n",
      "1800 done\n",
      "1900 done\n",
      "2000 done\n",
      "2100 done\n",
      "2200 done\n",
      "2300 done\n",
      "2400 done\n",
      "2500 done\n",
      "2600 done\n",
      "2700 done\n",
      "2800 done\n",
      "2900 done\n",
      "3000 done\n",
      "3100 done\n",
      "3200 done\n",
      "3300 done\n",
      "3400 done\n",
      "3500 done\n",
      "3600 done\n",
      "3700 done\n",
      "3800 done\n",
      "3900 done\n",
      "4000 done\n",
      "4100 done\n",
      "4200 done\n",
      "4300 done\n",
      "4400 done\n",
      "4500 done\n",
      "4600 done\n",
      "4700 done\n",
      "4800 done\n",
      "4900 done\n",
      "5000 done\n",
      "5100 done\n",
      "5200 done\n",
      "5300 done\n",
      "5400 done\n",
      "5500 done\n",
      "5600 done\n",
      "5700 done\n",
      "5800 done\n",
      "5900 done\n",
      "6000 done\n",
      "6100 done\n",
      "6200 done\n",
      "6300 done\n",
      "6400 done\n",
      "6500 done\n",
      "6600 done\n",
      "6700 done\n",
      "6800 done\n",
      "6900 done\n",
      "7000 done\n",
      "7100 done\n",
      "7200 done\n",
      "7300 done\n",
      "7400 done\n",
      "7500 done\n",
      "7600 done\n",
      "7700 done\n",
      "7800 done\n",
      "7900 done\n",
      "8000 done\n",
      "(8000, 384, 384, 3) (8000, 1)\n",
      "uint8 uint8\n",
      "255 0\n"
     ]
    }
   ],
   "source": [
    "X = []\n",
    "Y = []\n",
    "\n",
    "for i,c in enumerate(class_list):\n",
    "    class_dir = os.path.join(dpath_preprocess, c)\n",
    "    file_list = os.listdir(class_dir)\n",
    "    \n",
    "    for f in file_list:\n",
    "        impath = os.path.join(class_dir, f)\n",
    "        \n",
    "        x = cv2.imread(impath)\n",
    "        x = cv2.cvtColor(x, cv2.COLOR_BGR2RGB)\n",
    "        x = np.round(cv2.resize(x, (image_dim, image_dim)))\n",
    "        x.dtype = np.uint8\n",
    "        X.append(x)\n",
    "        Y.append([i])\n",
    "        \n",
    "        if len(X)%100 ==0:\n",
    "            print(len(X), 'done')\n",
    "            \n",
    "X = np.array(X, dtype=np.uint8)\n",
    "Y = np.array(Y, dtype=np.uint8)\n",
    "\n",
    "print(X.shape, Y.shape)\n",
    "print(X.dtype, Y.dtype)\n",
    "print(np.max(X), np.min(X))"
   ]
  },
  {
   "cell_type": "code",
   "execution_count": 47,
   "metadata": {},
   "outputs": [],
   "source": [
    "with open('kvasir_cls_'+str(image_dim)+'.pickle', 'wb') as f:\n",
    "    pickle.dump([X,Y], f)"
   ]
  },
  {
   "cell_type": "code",
   "execution_count": null,
   "metadata": {},
   "outputs": [],
   "source": []
  }
 ],
 "metadata": {
  "kernelspec": {
   "display_name": "Python 3",
   "language": "python",
   "name": "python3"
  },
  "language_info": {
   "codemirror_mode": {
    "name": "ipython",
    "version": 3
   },
   "file_extension": ".py",
   "mimetype": "text/x-python",
   "name": "python",
   "nbconvert_exporter": "python",
   "pygments_lexer": "ipython3",
   "version": "3.6.5"
  }
 },
 "nbformat": 4,
 "nbformat_minor": 2
}
