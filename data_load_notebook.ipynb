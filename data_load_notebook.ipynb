{
 "cells": [
  {
   "cell_type": "code",
   "execution_count": 1,
   "metadata": {
    "ExecuteTime": {
     "end_time": "2021-04-06T10:40:03.012882Z",
     "start_time": "2021-04-06T10:40:02.614014Z"
    }
   },
   "outputs": [],
   "source": [
    "import numpy as np\n",
    "import sys, os, pickle\n",
    "import cv2\n",
    "import matplotlib.pyplot as plt\n",
    "from preprocessing import text_vanish as tv\n",
    "from preprocessing import crop_edges as ce\n",
    "from pathlib import Path"
   ]
  },
  {
   "cell_type": "code",
   "execution_count": 2,
   "metadata": {
    "ExecuteTime": {
     "end_time": "2021-04-06T10:40:04.935158Z",
     "start_time": "2021-04-06T10:40:04.925185Z"
    }
   },
   "outputs": [],
   "source": [
    "#image_dim = int(sys.argv[1])#224, 299, 331, ...\n",
    "\n",
    "image_dim = 384\n",
    "\n",
    "\n",
    "dpath_original = 'D:kvasir_cls/kvasir-dataset-v2'\n",
    "dpath_preprocess = dpath_original+'_preprocess'\n",
    "class_list = ['esophagitis', 'dyed-lifted-polyps', 'dyed-resection-margins', 'normal-cecum', 'normal-pylorus', 'normal-z-line', 'polyps', 'ulcerative-colitis']"
   ]
  },
  {
   "cell_type": "code",
   "execution_count": 3,
   "metadata": {
    "ExecuteTime": {
     "end_time": "2021-04-06T10:40:07.508480Z",
     "start_time": "2021-04-06T10:40:07.492995Z"
    }
   },
   "outputs": [],
   "source": [
    "if not(os.path.isdir(dpath_preprocess)):\n",
    "    os.mkdir(dpath_preprocess)"
   ]
  },
  {
   "cell_type": "code",
   "execution_count": 5,
   "metadata": {
    "ExecuteTime": {
     "end_time": "2021-04-06T11:44:12.477969Z",
     "start_time": "2021-04-06T10:40:18.940915Z"
    }
   },
   "outputs": [
    {
     "name": "stdout",
     "output_type": "stream",
     "text": [
      "esophagitis\n",
      "dyed-lifted-polyps\n",
      "dyed-resection-margins\n",
      "normal-cecum\n",
      "normal-pylorus\n",
      "normal-z-line\n",
      "polyps\n",
      "ulcerative-colitis\n"
     ]
    }
   ],
   "source": [
    "for i, c in enumerate(class_list):\n",
    "    \n",
    "    print(c)\n",
    "    \n",
    "    class_dir = os.path.join(dpath_original, c)\n",
    "    file_list = os.listdir(class_dir+\"/\")\n",
    "    \n",
    "    out_dir = os.path.join(dpath_preprocess, c)\n",
    "    if not(os.path.isdir(out_dir)): os.mkdir(out_dir)\n",
    "        \n",
    "    for f in file_list:\n",
    "\n",
    "        impath = os.path.join(class_dir, f)\n",
    "        processed = tv.Vanisher(impath).do_vanish()\n",
    "        cropped = ce.Crop(processed).do_crop()\n",
    "        final = cv2.resize(cropped, (625, 532))\n",
    "\n",
    "        filename = os.path.basename(impath).strip()[:-4] + '_prsd'\n",
    "        out_path = os.path.join(out_dir, filename + '.png')\n",
    "        cv2.imwrite(out_path, final)\n",
    "            "
   ]
  },
  {
   "cell_type": "code",
   "execution_count": 6,
   "metadata": {
    "ExecuteTime": {
     "end_time": "2021-04-06T12:08:44.819714Z",
     "start_time": "2021-04-06T12:07:38.699156Z"
    }
   },
   "outputs": [
    {
     "name": "stdout",
     "output_type": "stream",
     "text": [
      "100 done\n",
      "200 done\n",
      "300 done\n",
      "400 done\n",
      "500 done\n",
      "600 done\n",
      "700 done\n",
      "800 done\n",
      "900 done\n",
      "1000 done\n",
      "1100 done\n",
      "1200 done\n",
      "1300 done\n",
      "1400 done\n",
      "1500 done\n",
      "1600 done\n",
      "1700 done\n",
      "1800 done\n",
      "1900 done\n",
      "2000 done\n",
      "2100 done\n",
      "2200 done\n",
      "2300 done\n",
      "2400 done\n",
      "2500 done\n",
      "2600 done\n",
      "2700 done\n",
      "2800 done\n",
      "2900 done\n",
      "3000 done\n",
      "3100 done\n",
      "3200 done\n",
      "3300 done\n",
      "3400 done\n",
      "3500 done\n",
      "3600 done\n",
      "3700 done\n",
      "3800 done\n",
      "3900 done\n",
      "4000 done\n",
      "4100 done\n",
      "4200 done\n",
      "4300 done\n",
      "4400 done\n",
      "4500 done\n",
      "4600 done\n",
      "4700 done\n",
      "4800 done\n",
      "4900 done\n",
      "5000 done\n",
      "5100 done\n",
      "5200 done\n",
      "5300 done\n",
      "5400 done\n",
      "5500 done\n",
      "5600 done\n",
      "5700 done\n",
      "5800 done\n",
      "5900 done\n",
      "6000 done\n",
      "6100 done\n",
      "6200 done\n",
      "6300 done\n",
      "6400 done\n",
      "6500 done\n",
      "6600 done\n",
      "6700 done\n",
      "6800 done\n",
      "6900 done\n",
      "7000 done\n",
      "(7000, 384, 384, 3) (7000, 1)\n",
      "uint8 uint8\n",
      "255 0\n"
     ]
    }
   ],
   "source": [
    "X = []\n",
    "Y = []\n",
    "\n",
    "# remove polyp class\n",
    "# to calibrate with segmentation dataset\n",
    "class_list = ['esophagitis', 'dyed-lifted-polyps', 'dyed-resection-margins',\n",
    "              'normal-cecum', 'normal-pylorus', 'normal-z-line', 'ulcerative-colitis'] # polyp removed\n",
    "\n",
    "for i,c in enumerate(class_list):\n",
    "    class_dir = os.path.join(dpath_preprocess, c)\n",
    "    file_list = os.listdir(class_dir)\n",
    "    \n",
    "    for f in file_list:\n",
    "        impath = os.path.join(class_dir, f)\n",
    "        \n",
    "        x = cv2.imread(impath)\n",
    "        x = cv2.cvtColor(x, cv2.COLOR_BGR2RGB)\n",
    "        x = np.round(cv2.resize(x, (image_dim, image_dim)))\n",
    "        x.dtype = np.uint8\n",
    "        X.append(x)\n",
    "        Y.append([i])\n",
    "        \n",
    "        if len(X)%100 ==0:\n",
    "            print(len(X), 'done')\n",
    "            \n",
    "X = np.array(X, dtype=np.uint8)\n",
    "Y = np.array(Y, dtype=np.uint8)\n",
    "\n",
    "print(X.shape, Y.shape)\n",
    "print(X.dtype, Y.dtype)\n",
    "print(np.max(X), np.min(X))"
   ]
  },
  {
   "cell_type": "code",
   "execution_count": 9,
   "metadata": {
    "ExecuteTime": {
     "end_time": "2021-04-06T12:10:29.373053Z",
     "start_time": "2021-04-06T12:10:11.404325Z"
    }
   },
   "outputs": [],
   "source": [
    "with open(dpath_preprocess + '/kvasir_cls_'+str(image_dim)+\"no_polyp\"+'.pickle', 'wb') as f:\n",
    "    pickle.dump([X,Y], f)"
   ]
  },
  {
   "cell_type": "code",
   "execution_count": 11,
   "metadata": {
    "ExecuteTime": {
     "end_time": "2021-04-06T12:12:26.666005Z",
     "start_time": "2021-04-06T12:12:20.860181Z"
    }
   },
   "outputs": [
    {
     "name": "stdout",
     "output_type": "stream",
     "text": [
      "100 done\n",
      "200 done\n",
      "300 done\n",
      "400 done\n",
      "500 done\n",
      "600 done\n",
      "700 done\n",
      "800 done\n",
      "900 done\n",
      "1000 done\n",
      "(1000, 384, 384, 3) (1000, 1)\n",
      "uint8 uint8\n",
      "255 0\n"
     ]
    }
   ],
   "source": [
    "X = []\n",
    "Y = []\n",
    "\n",
    "# only polyps class images\n",
    "# class index for polyp = 7\n",
    "class_dir = os.path.join(dpath_preprocess, \"polyps\")\n",
    "file_list = os.listdir(class_dir)\n",
    "    \n",
    "for f in file_list:\n",
    "    impath = os.path.join(class_dir, f)\n",
    "\n",
    "    x = cv2.imread(impath)\n",
    "    x = cv2.cvtColor(x, cv2.COLOR_BGR2RGB)\n",
    "    x = np.round(cv2.resize(x, (image_dim, image_dim)))\n",
    "    x.dtype = np.uint8\n",
    "    X.append(x)\n",
    "    Y.append([7])\n",
    "\n",
    "    if len(X)%100 ==0:\n",
    "        print(len(X), 'done')\n",
    "            \n",
    "X = np.array(X, dtype=np.uint8)\n",
    "Y = np.array(Y, dtype=np.uint8)\n",
    "\n",
    "print(X.shape, Y.shape)\n",
    "print(X.dtype, Y.dtype)\n",
    "print(np.max(X), np.min(X))"
   ]
  },
  {
   "cell_type": "code",
   "execution_count": 13,
   "metadata": {
    "ExecuteTime": {
     "end_time": "2021-04-06T12:13:01.850866Z",
     "start_time": "2021-04-06T12:12:59.067854Z"
    }
   },
   "outputs": [],
   "source": [
    "with open(dpath_preprocess + '/kvasir_cls_'+str(image_dim)+\"polyp\"+'.pickle', 'wb') as f:\n",
    "    pickle.dump([X,Y], f)"
   ]
  }
 ],
 "metadata": {
  "kernelspec": {
   "display_name": "Python 3",
   "language": "python",
   "name": "python3"
  },
  "language_info": {
   "codemirror_mode": {
    "name": "ipython",
    "version": 3
   },
   "file_extension": ".py",
   "mimetype": "text/x-python",
   "name": "python",
   "nbconvert_exporter": "python",
   "pygments_lexer": "ipython3",
   "version": "3.7.10"
  },
  "toc": {
   "base_numbering": 1,
   "nav_menu": {},
   "number_sections": true,
   "sideBar": true,
   "skip_h1_title": false,
   "title_cell": "Table of Contents",
   "title_sidebar": "Contents",
   "toc_cell": false,
   "toc_position": {},
   "toc_section_display": true,
   "toc_window_display": false
  },
  "varInspector": {
   "cols": {
    "lenName": 16,
    "lenType": 16,
    "lenVar": 40
   },
   "kernels_config": {
    "python": {
     "delete_cmd_postfix": "",
     "delete_cmd_prefix": "del ",
     "library": "var_list.py",
     "varRefreshCmd": "print(var_dic_list())"
    },
    "r": {
     "delete_cmd_postfix": ") ",
     "delete_cmd_prefix": "rm(",
     "library": "var_list.r",
     "varRefreshCmd": "cat(var_dic_list()) "
    }
   },
   "types_to_exclude": [
    "module",
    "function",
    "builtin_function_or_method",
    "instance",
    "_Feature"
   ],
   "window_display": false
  }
 },
 "nbformat": 4,
 "nbformat_minor": 2
}
